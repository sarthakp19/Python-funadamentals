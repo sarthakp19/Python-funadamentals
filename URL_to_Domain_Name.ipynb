{
 "cells": [
  {
   "cell_type": "markdown",
   "metadata": {},
   "source": [
    "# Python Code to find domain name from URL"
   ]
  },
  {
   "cell_type": "code",
   "execution_count": 1,
   "metadata": {},
   "outputs": [],
   "source": [
    "def URL_to_Domain():\n",
    "    # Taking input from user\n",
    "    URL = input(\"Enter a URL: \")\n",
    "    x = URL\n",
    "\n",
    "    # Removeing the protocol (http or https)\n",
    "    if URL.startswith(\"https://\"):\n",
    "        URL = URL.replace(\"https://\", \"\", 1)\n",
    "    elif URL.startswith(\"http://\"):\n",
    "        URL = URL.replace(\"http://\", \"\", 1)\n",
    "\n",
    "    # Removeing www\n",
    "    if URL.startswith(\"www.\"):\n",
    "        URL = URL.replace(\"www.\", \"\", 1)\n",
    "\n",
    "    # Finding the index of the first slash\n",
    "    ind_slash = URL.find(\"/\")\n",
    "    if ind_slash != -1:\n",
    "    # If a slash is found, remove everything after it\n",
    "        URL = URL[:ind_slash]\n",
    "\n",
    "    print(f\"Domain name of {x} is:\", URL)"
   ]
  },
  {
   "cell_type": "code",
   "execution_count": 2,
   "metadata": {},
   "outputs": [
    {
     "name": "stdout",
     "output_type": "stream",
     "text": [
      "Enter a URL: https://www.abc.com/random.html\n",
      "Domain name of https://www.abc.com/random.html is: abc.com\n"
     ]
    }
   ],
   "source": [
    "URL_to_Domain()"
   ]
  },
  {
   "cell_type": "code",
   "execution_count": 3,
   "metadata": {},
   "outputs": [
    {
     "name": "stdout",
     "output_type": "stream",
     "text": [
      "Enter a URL: http://www.abc.com/random.html\n",
      "Domain name of http://www.abc.com/random.html is: abc.com\n"
     ]
    }
   ],
   "source": [
    "URL_to_Domain()"
   ]
  },
  {
   "cell_type": "code",
   "execution_count": 4,
   "metadata": {},
   "outputs": [
    {
     "name": "stdout",
     "output_type": "stream",
     "text": [
      "Enter a URL: http://www.abc.com/hello/random.html \n",
      "Domain name of http://www.abc.com/hello/random.html  is: abc.com\n"
     ]
    }
   ],
   "source": [
    "URL_to_Domain()"
   ]
  },
  {
   "cell_type": "code",
   "execution_count": 5,
   "metadata": {},
   "outputs": [
    {
     "name": "stdout",
     "output_type": "stream",
     "text": [
      "Enter a URL: www.abc.com \n",
      "Domain name of www.abc.com  is: abc.com \n"
     ]
    }
   ],
   "source": [
    "URL_to_Domain()"
   ]
  },
  {
   "cell_type": "code",
   "execution_count": 6,
   "metadata": {},
   "outputs": [
    {
     "name": "stdout",
     "output_type": "stream",
     "text": [
      "Enter a URL: http://abc.com \n",
      "Domain name of http://abc.com  is: abc.com \n"
     ]
    }
   ],
   "source": [
    "URL_to_Domain()"
   ]
  },
  {
   "cell_type": "code",
   "execution_count": null,
   "metadata": {},
   "outputs": [],
   "source": []
  }
 ],
 "metadata": {
  "kernelspec": {
   "display_name": "Python 3",
   "language": "python",
   "name": "python3"
  },
  "language_info": {
   "codemirror_mode": {
    "name": "ipython",
    "version": 3
   },
   "file_extension": ".py",
   "mimetype": "text/x-python",
   "name": "python",
   "nbconvert_exporter": "python",
   "pygments_lexer": "ipython3",
   "version": "3.7.3"
  }
 },
 "nbformat": 4,
 "nbformat_minor": 2
}
